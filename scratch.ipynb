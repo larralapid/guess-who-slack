{
 "cells": [
  {
   "cell_type": "code",
   "execution_count": 1,
   "metadata": {
    "dotnet_interactive": {
     "language": "javascript"
    },
    "polyglot_notebook": {
     "kernelName": "javascript"
    }
   },
   "outputs": [],
   "source": [
    "// Import bolt package (https://www.npmjs.com/package/@slack/bolt)\n",
    "require(['requirejs'], function(requirejs) {\n",
    "  const { App, LogLevel } = require(\"@slack/bolt\");\n",
    "\n",
    "  // Initializes your app with your bot token and signing secret\n",
    "  const app = new App({\n",
    "    token: process.env.SLACK_BOT_TOKEN,\n",
    "    signingSecret: process.env.SLACK_SIGNING_SECRET,\n",
    "    logLevel: LogLevel.DEBUG\n",
    "  });\n",
    "\n",
    "  // Listens to incoming messages that contain \"hello\"\n",
    "  app.message('hello', async ({ message, say }) => {\n",
    "    // say() sends a message to the channel where the event was triggered\n",
    "    await say(`Hey there <@${message.user}>!`);\n",
    "  });\n",
    "\n",
    "  app.command(\"/guesswho\", async ({ command, ack, say }) => {\n",
    "    // Acknowledge command request\n",
    "    await ack();\n",
    "\n",
    "    await say(`You initiated a Guess Who game, <@${command.user_id}>!`);\n",
    "  });\n",
    "\n",
    "  // Start your app\n",
    "  (async () => {\n",
    "    await app.start(process.env.PORT || 3000);\n",
    "\n",
    "    console.log('⚡️ Bolt app is running!');\n",
    "  })();\n",
    "});\n",
    "\n"
   ]
  }
 ],
 "metadata": {
  "kernelspec": {
   "display_name": ".NET (C#)",
   "language": "C#",
   "name": ".net-csharp"
  },
  "language_info": {
   "name": "polyglot-notebook"
  },
  "polyglot_notebook": {
   "kernelInfo": {
    "defaultKernelName": "javascript",
    "items": [
     {
      "aliases": [],
      "languageName": "javascript",
      "name": "javascript"
     }
    ]
   }
  }
 },
 "nbformat": 4,
 "nbformat_minor": 2
}
